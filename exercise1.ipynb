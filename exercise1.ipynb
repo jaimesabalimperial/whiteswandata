{
 "cells": [
  {
   "cell_type": "markdown",
   "metadata": {},
   "source": [
    "### Definitions \n",
    "\n",
    "- \"win_fair_price\" is the price representing the true probability that the horse wins. (In reality you never know this but assume you do).\n",
    "- \"win_starting_price\" is the market's price that the horse wins at the start time of the race. \n",
    "- \"winner\" is a binary value indicating whether the horse won or lost the race. \n",
    "- \"Early_Market_Price\" is the price you are offered to bet by the bookmaker at some time, t, before the race starts. \n",
    "- \"Early_Model_Price\" is your own model's price for the horse to win at the time that the bookmaker offers his prices before the race starts (time t).\n",
    "- \"Starting_Model_Price\" is your model's price for the horse to win at the start time of the race.\n",
    "- \"race_number\" and \"saddle_number\" are unique identifiers for the race and the horse, respectively."
   ]
  },
  {
   "cell_type": "code",
   "execution_count": 89,
   "metadata": {},
   "outputs": [],
   "source": [
    "import pandas as pd\n",
    "import numpy as np\n",
    "import matplotlib.pyplot as plt \n",
    "from collections import defaultdict"
   ]
  },
  {
   "cell_type": "code",
   "execution_count": 90,
   "metadata": {},
   "outputs": [],
   "source": [
    "#import data from csv file\n",
    "horses_df = pd.read_csv('horses.csv')\n",
    "\n",
    "#select the columns showing the availabel information\n",
    "available_information = horses_df[['Early_Market_Price', 'Early_Model_Price']]"
   ]
  },
  {
   "cell_type": "code",
   "execution_count": 91,
   "metadata": {},
   "outputs": [
    {
     "data": {
      "text/html": [
       "<div>\n",
       "<style scoped>\n",
       "    .dataframe tbody tr th:only-of-type {\n",
       "        vertical-align: middle;\n",
       "    }\n",
       "\n",
       "    .dataframe tbody tr th {\n",
       "        vertical-align: top;\n",
       "    }\n",
       "\n",
       "    .dataframe thead th {\n",
       "        text-align: right;\n",
       "    }\n",
       "</style>\n",
       "<table border=\"1\" class=\"dataframe\">\n",
       "  <thead>\n",
       "    <tr style=\"text-align: right;\">\n",
       "      <th></th>\n",
       "      <th>race_number</th>\n",
       "      <th>saddle_number</th>\n",
       "      <th>win_fair_price</th>\n",
       "      <th>win_starting_price</th>\n",
       "      <th>winner</th>\n",
       "      <th>Early_Market_Price</th>\n",
       "      <th>Early_Model_Price</th>\n",
       "      <th>Starting_Model_Price</th>\n",
       "    </tr>\n",
       "  </thead>\n",
       "  <tbody>\n",
       "    <tr>\n",
       "      <th>0</th>\n",
       "      <td>1</td>\n",
       "      <td>4</td>\n",
       "      <td>1.7353</td>\n",
       "      <td>1.7098</td>\n",
       "      <td>1</td>\n",
       "      <td>1.55</td>\n",
       "      <td>1.729805</td>\n",
       "      <td>1.729805</td>\n",
       "    </tr>\n",
       "    <tr>\n",
       "      <th>1</th>\n",
       "      <td>1</td>\n",
       "      <td>1</td>\n",
       "      <td>6.0313</td>\n",
       "      <td>6.0914</td>\n",
       "      <td>0</td>\n",
       "      <td>4.90</td>\n",
       "      <td>6.526502</td>\n",
       "      <td>6.526502</td>\n",
       "    </tr>\n",
       "    <tr>\n",
       "      <th>2</th>\n",
       "      <td>1</td>\n",
       "      <td>5</td>\n",
       "      <td>7.6923</td>\n",
       "      <td>7.5101</td>\n",
       "      <td>0</td>\n",
       "      <td>7.08</td>\n",
       "      <td>8.431470</td>\n",
       "      <td>8.431470</td>\n",
       "    </tr>\n",
       "    <tr>\n",
       "      <th>3</th>\n",
       "      <td>1</td>\n",
       "      <td>6</td>\n",
       "      <td>20.3325</td>\n",
       "      <td>20.4978</td>\n",
       "      <td>0</td>\n",
       "      <td>16.10</td>\n",
       "      <td>22.772208</td>\n",
       "      <td>22.772208</td>\n",
       "    </tr>\n",
       "    <tr>\n",
       "      <th>4</th>\n",
       "      <td>1</td>\n",
       "      <td>2</td>\n",
       "      <td>23.9991</td>\n",
       "      <td>23.4710</td>\n",
       "      <td>0</td>\n",
       "      <td>19.07</td>\n",
       "      <td>26.987190</td>\n",
       "      <td>26.987190</td>\n",
       "    </tr>\n",
       "    <tr>\n",
       "      <th>...</th>\n",
       "      <td>...</td>\n",
       "      <td>...</td>\n",
       "      <td>...</td>\n",
       "      <td>...</td>\n",
       "      <td>...</td>\n",
       "      <td>...</td>\n",
       "      <td>...</td>\n",
       "      <td>...</td>\n",
       "    </tr>\n",
       "    <tr>\n",
       "      <th>86643</th>\n",
       "      <td>10000</td>\n",
       "      <td>7</td>\n",
       "      <td>14.4772</td>\n",
       "      <td>13.8269</td>\n",
       "      <td>0</td>\n",
       "      <td>11.18</td>\n",
       "      <td>14.134298</td>\n",
       "      <td>14.134298</td>\n",
       "    </tr>\n",
       "    <tr>\n",
       "      <th>86644</th>\n",
       "      <td>10000</td>\n",
       "      <td>5</td>\n",
       "      <td>29.0062</td>\n",
       "      <td>29.8636</td>\n",
       "      <td>0</td>\n",
       "      <td>21.75</td>\n",
       "      <td>27.934114</td>\n",
       "      <td>27.934114</td>\n",
       "    </tr>\n",
       "    <tr>\n",
       "      <th>86645</th>\n",
       "      <td>10000</td>\n",
       "      <td>3</td>\n",
       "      <td>50.8005</td>\n",
       "      <td>48.9715</td>\n",
       "      <td>0</td>\n",
       "      <td>35.42</td>\n",
       "      <td>48.614364</td>\n",
       "      <td>48.614364</td>\n",
       "    </tr>\n",
       "    <tr>\n",
       "      <th>86646</th>\n",
       "      <td>10000</td>\n",
       "      <td>9</td>\n",
       "      <td>310.1959</td>\n",
       "      <td>305.6448</td>\n",
       "      <td>0</td>\n",
       "      <td>185.15</td>\n",
       "      <td>292.496189</td>\n",
       "      <td>292.496189</td>\n",
       "    </tr>\n",
       "    <tr>\n",
       "      <th>86647</th>\n",
       "      <td>10000</td>\n",
       "      <td>2</td>\n",
       "      <td>621.1930</td>\n",
       "      <td>601.6791</td>\n",
       "      <td>0</td>\n",
       "      <td>348.00</td>\n",
       "      <td>581.347964</td>\n",
       "      <td>581.347964</td>\n",
       "    </tr>\n",
       "  </tbody>\n",
       "</table>\n",
       "<p>86648 rows × 8 columns</p>\n",
       "</div>"
      ],
      "text/plain": [
       "       race_number  saddle_number  win_fair_price  win_starting_price  winner  \\\n",
       "0                1              4          1.7353              1.7098       1   \n",
       "1                1              1          6.0313              6.0914       0   \n",
       "2                1              5          7.6923              7.5101       0   \n",
       "3                1              6         20.3325             20.4978       0   \n",
       "4                1              2         23.9991             23.4710       0   \n",
       "...            ...            ...             ...                 ...     ...   \n",
       "86643        10000              7         14.4772             13.8269       0   \n",
       "86644        10000              5         29.0062             29.8636       0   \n",
       "86645        10000              3         50.8005             48.9715       0   \n",
       "86646        10000              9        310.1959            305.6448       0   \n",
       "86647        10000              2        621.1930            601.6791       0   \n",
       "\n",
       "       Early_Market_Price  Early_Model_Price  Starting_Model_Price  \n",
       "0                    1.55           1.729805              1.729805  \n",
       "1                    4.90           6.526502              6.526502  \n",
       "2                    7.08           8.431470              8.431470  \n",
       "3                   16.10          22.772208             22.772208  \n",
       "4                   19.07          26.987190             26.987190  \n",
       "...                   ...                ...                   ...  \n",
       "86643               11.18          14.134298             14.134298  \n",
       "86644               21.75          27.934114             27.934114  \n",
       "86645               35.42          48.614364             48.614364  \n",
       "86646              185.15         292.496189            292.496189  \n",
       "86647              348.00         581.347964            581.347964  \n",
       "\n",
       "[86648 rows x 8 columns]"
      ]
     },
     "execution_count": 91,
     "metadata": {},
     "output_type": "execute_result"
    }
   ],
   "source": [
    "horses_df"
   ]
  },
  {
   "cell_type": "markdown",
   "metadata": {},
   "source": [
    "## Q1: How many selections are you betting? Why?\n",
    "\n",
    "The selections should be made on the basis of your models early price $P_m$ for a horse at time $t$ with respect to the bookers price $P_b$ at the same time. If the model places better odds for a horse than the booker (i.e if $P_m < P_b$) then a bet should be placed for that horse, assuming we have full confidence in the model's predictions at time $t$. "
   ]
  },
  {
   "cell_type": "code",
   "execution_count": 97,
   "metadata": {},
   "outputs": [
    {
     "name": "stdout",
     "output_type": "stream",
     "text": [
      "Number of bets we should select = 2112\n"
     ]
    }
   ],
   "source": [
    "#select bets where the models early price is smaller than the markets early price\n",
    "p_m_win = 1 / horses_df['Early_Model_Price']\n",
    "p_b_win = 1 / horses_df['Early_Market_Price']\n",
    "p_true_win = 1 / horses_df['win_fair_price']\n",
    "favourable_probs = p_m_win > p_b_win\n",
    "selected_bets = horses_df.copy().loc[favourable_probs]\n",
    "num_selected_bets = len(selected_bets)\n",
    "print(f'Number of bets we should select = {num_selected_bets}')"
   ]
  },
  {
   "cell_type": "markdown",
   "metadata": {},
   "source": [
    "## Q2\n",
    "\n",
    "### a). Calculate the Total Stake and Total PnL RoI, assuming a Unit Stake per selection that you bet."
   ]
  },
  {
   "cell_type": "code",
   "execution_count": 98,
   "metadata": {},
   "outputs": [
    {
     "name": "stdout",
     "output_type": "stream",
     "text": [
      "Total Stake = 2112.0\n",
      "Total PnL ROI = -0.016216856060606067\n"
     ]
    }
   ],
   "source": [
    "#calculate PnL and PnL ROI for selected bets\n",
    "unit_stake_bets = selected_bets.copy()\n",
    "unit_stake_bets['Stake'] = np.ones(num_selected_bets)\n",
    "unit_stake_bets['PnL'] = unit_stake_bets['Stake'] * (unit_stake_bets['Early_Market_Price'] * unit_stake_bets['winner'] - 1)\n",
    "unit_stake_bets['PnL ROI'] = unit_stake_bets['PnL'] / unit_stake_bets['Stake']\n",
    "\n",
    "total_stake = sum(unit_stake_bets['Stake'])\n",
    "total_pnl = sum(unit_stake_bets['PnL'])\n",
    "total_pnl_roi = total_pnl / total_stake\n",
    "\n",
    "print(f'Total Stake = {total_stake}')\n",
    "print(f'Total PnL ROI = {total_pnl_roi}')"
   ]
  },
  {
   "cell_type": "markdown",
   "metadata": {},
   "source": [
    "### b). Calculate the Total Stake and Total PnL RoI, assuming a Kelly Stake per selection that you bet. Use 100,000 as your Kelly bankroll for this calculation.\n",
    "\n",
    "Kelly Gambling Formula for the optimal price to bet: \n",
    "\n",
    "$$\n",
    "f^* = \\frac{p * odds - 1}{odds -1}\n",
    "$$\n",
    "\n",
    "where \n",
    "\n",
    "- $f^{*}$ is the fraction of the current bankroll to wager.\n",
    "- $p$ is the probability of a win (i.e. $\\frac{1}{P_m}$)\n",
    "- odds is the bookmaker price on the bet to win. \n",
    "\n",
    "Since it wasn't clear if the bets should be placed sequentially or all at one time, we will assume that they are all placed at one time and that the kelly criterion is calculated for many bets at one time. In this manner, the kelly fractions are calculated for each of the selected bets and finally are divided by the sum of all fractions to retrieve the relative weight of the bankroll that we need to place on each bet with respect to the other bets. "
   ]
  },
  {
   "cell_type": "code",
   "execution_count": 125,
   "metadata": {},
   "outputs": [
    {
     "name": "stdout",
     "output_type": "stream",
     "text": [
      "Total Stake = 99999.99999999994\n",
      "Total PnL ROI = 0.03241795273893227\n"
     ]
    }
   ],
   "source": [
    "kelly_stake_bets = selected_bets.copy()\n",
    "\n",
    "p_model_win = 1 / kelly_stake_bets['Early_Model_Price'] #calculate probability of winning as per models predictions\n",
    "odds = kelly_stake_bets['Early_Market_Price'] #bookmaker odds\n",
    "\n",
    "fractions = [] \n",
    "bankroll = 100000 #start with initial bankroll\n",
    "for i in range(len(kelly_stake_bets)):\n",
    "    fractions.append((p_model_win.iloc[i]*odds.iloc[i] - 1) / (odds.iloc[i] - 1)) #kelly formula for fraction of bankroll to bet\n",
    "\n",
    "fractions = fractions / sum(fractions)\n",
    "stakes = bankroll * fractions\n",
    "kelly_stake_bets['Stake'] = stakes\n",
    "kelly_stake_bets['PnL'] = kelly_stake_bets['Stake'] * (kelly_stake_bets['Early_Market_Price'] * kelly_stake_bets['winner'] - 1) #calculate PnL\n",
    "\n",
    "#calculate total PnL and PnL ROI\n",
    "total_stake = sum(kelly_stake_bets['Stake'])\n",
    "total_pnl = sum(kelly_stake_bets['PnL'])\n",
    "total_pnl_roi = total_pnl / total_stake\n",
    "\n",
    "print(f'Total Stake = {total_stake}')\n",
    "print(f'Total PnL ROI = {total_pnl_roi}')"
   ]
  },
  {
   "cell_type": "markdown",
   "metadata": {},
   "source": [
    "## Q3\n",
    "\n",
    "$$\n",
    "EV = p*stake*odds - (1-p)*stake\n",
    "$$\n",
    "\n",
    "### Using the win_fair_price calculate the Total EV RoI for: \n",
    "- a) the Unit Stake strategy\n",
    "- b) the Kelly Stake strategy"
   ]
  },
  {
   "cell_type": "code",
   "execution_count": 127,
   "metadata": {},
   "outputs": [
    {
     "name": "stdout",
     "output_type": "stream",
     "text": [
      "Total EV ROI for Unit Stake Strategy = 1.037653958682085\n",
      "Total EV ROI for Kelly Stake Strategy = 0.6303574392383056\n"
     ]
    }
   ],
   "source": [
    "#calculate true probability of winning\n",
    "p_true_win = 1 / selected_bets['win_fair_price']\n",
    "\n",
    "#EV using unit stake strategy\n",
    "unit_stake_bets['EV'] = p_true_win * unit_stake_bets['Stake'] * unit_stake_bets['Early_Market_Price'] - (1 - p_true_win)*unit_stake_bets['Stake']\n",
    "unit_total_ev_roi = sum(unit_stake_bets['EV']) / sum(unit_stake_bets['Stake'])\n",
    "\n",
    "#EV using Kelly stake strategy\n",
    "kelly_stake_bets['EV'] = p_true_win * kelly_stake_bets['Stake'] * kelly_stake_bets['Early_Market_Price'] - (1 - p_true_win)*kelly_stake_bets['Stake']\n",
    "kelly_total_ev_roi = sum(kelly_stake_bets['EV']) / sum(kelly_stake_bets['Stake'])\n",
    "\n",
    "print(f'Total EV ROI for Unit Stake Strategy = {unit_total_ev_roi}')\n",
    "print(f'Total EV ROI for Kelly Stake Strategy = {kelly_total_ev_roi}')"
   ]
  },
  {
   "cell_type": "markdown",
   "metadata": {},
   "source": [
    "## Q4: Is the model profitable in the long term?\n",
    "\n",
    "- a). Monte-Carlo Simulation\n",
    "\n",
    "Here we run a simulation for 1,000,000 samples taken using the true probabilities for the outcome of the races and calculate the profits and losses using the unit and kelly startegies, with the same assumptions holding for the latter as in question 2b. "
   ]
  },
  {
   "cell_type": "code",
   "execution_count": 128,
   "metadata": {},
   "outputs": [],
   "source": [
    "import random\n",
    "from tqdm import tqdm"
   ]
  },
  {
   "cell_type": "code",
   "execution_count": 133,
   "metadata": {},
   "outputs": [
    {
     "name": "stderr",
     "output_type": "stream",
     "text": [
      "100%|██████████| 1000000/1000000 [02:56<00:00, 5661.08it/s]\n"
     ]
    }
   ],
   "source": [
    "#unit stakes\n",
    "record = {'unit_PnL': [], 'unit_stakes': [], \n",
    "          'kelly_fractions': [], 'odds*winner': []}\n",
    "\n",
    "#run simulation\n",
    "num_simulations = 1000000\n",
    "for _ in tqdm(range(num_simulations)):\n",
    "    sample = selected_bets.iloc[random.randint(0, len(selected_bets)-1)]\n",
    "    p_model_win = 1 / sample['Early_Model_Price']\n",
    "    p_true_win = 1 / sample['win_fair_price'] #true probability of winning\n",
    "    winner = random.random() < p_true_win #sample outcome\n",
    "    odds = sample['Early_Market_Price'] #bookmaker odds that we pay\n",
    "\n",
    "    #calculate unit PnL\n",
    "    unit_PnL = odds * winner - 1\n",
    "    record['odds*winner'].append(odds * winner)\n",
    "    record['kelly_fractions'].append((p_model_win*odds - 1) / (odds - 1))\n",
    "    record['unit_PnL'].append(unit_PnL)\n",
    "    record['unit_stakes'].append(1)"
   ]
  },
  {
   "cell_type": "code",
   "execution_count": 135,
   "metadata": {},
   "outputs": [],
   "source": [
    "#kelly statistics\n",
    "bankroll = num_simulations\n",
    "record['refactored_fractions'] = record['kelly_fractions'] / sum(record['kelly_fractions'])\n",
    "record['kelly_stakes'] = bankroll * record['refactored_fractions']\n",
    "record['kelly_PnL'] = record['kelly_stakes'] * (record['odds*winner'] - np.ones(num_simulations))"
   ]
  },
  {
   "cell_type": "code",
   "execution_count": 136,
   "metadata": {},
   "outputs": [
    {
     "name": "stdout",
     "output_type": "stream",
     "text": [
      "Total Unit Stake = 1000000\n",
      "Total Unit PnL ROI = 0.14747568000001127\n",
      "Total Kelly Stake = 1000000.0000000458\n",
      "Total Kelly PnL ROI = 0.05533722176597893\n"
     ]
    }
   ],
   "source": [
    "#unit strategy\n",
    "total_unit_stake = sum(record['unit_stakes'])\n",
    "total_unit_pnl = sum(record['unit_PnL'])\n",
    "total_unit_pnl_roi = total_unit_pnl / total_unit_stake\n",
    "\n",
    "print(f'Total Unit Stake = {total_unit_stake}')\n",
    "print(f'Total Unit PnL ROI = {total_unit_pnl_roi}')\n",
    "\n",
    "#kelly strategy\n",
    "total_kelly_stake = sum(record['kelly_stakes'])\n",
    "total_kelly_pnl = sum(record['kelly_PnL'])\n",
    "total_kelly_pnl_roi = total_kelly_pnl / total_kelly_stake\n",
    "\n",
    "print(f'Total Kelly Stake = {total_kelly_stake}')\n",
    "print(f'Total Kelly PnL ROI = {total_kelly_pnl_roi}')"
   ]
  },
  {
   "cell_type": "markdown",
   "metadata": {},
   "source": [
    "After running a simulation for 1,000,000 samples, we observe that the PnL ROI for the unit strategy is 0.1475 and the PnL for the kelly startegy is 0.0553, and therefore the model should be profitable in the long term. The fact that the unit strategy performs better than the kelly strategy indicates that the models predictions for the betting prices are accurate but not precise. In other words, the model predicts correctly when a bet should be made (i.e. when the bookmaker underestimates the probability of a horse winning), but the actual values of the betting prices are not reflective enough of the true probabilities to weigh bets differently on a basis of the models predictions. "
   ]
  },
  {
   "cell_type": "markdown",
   "metadata": {},
   "source": [
    "#### b). Which of the four prices (win_starting_price, Early_Market_Price, Early_Model_Price, Starting_Model_Price) is the best predictor of the win_fair_price, based on the data provided? Explain your answer.\n",
    "\n",
    "In order to determine which of the prices is a better predictor of the true price we can calculate the $r^2$ value which estimates the correlation between two variables. If we do this for all of the above variables, the one closes to +1 is the better predictor. "
   ]
  },
  {
   "cell_type": "code",
   "execution_count": 140,
   "metadata": {},
   "outputs": [
    {
     "name": "stdout",
     "output_type": "stream",
     "text": [
      "Early Market r^2 = 0.3076\n",
      "Early Model r^2 = 0.0050\n",
      "Starting Model r^2 = 0.0050\n"
     ]
    }
   ],
   "source": [
    "from scipy import stats\n",
    "\n",
    "true_price = horses_df['win_fair_price']\n",
    "early_market_price = horses_df['Early_Market_Price']\n",
    "early_model_price = horses_df['Early_Model_Price']\n",
    "starting_model_price = horses_df['Starting_Model_Price']\n",
    "\n",
    "def r_squared(x, y):\n",
    "    slope, intercept, r_value, p_value, std_err = stats.linregress(x, y)\n",
    "    return r_value**2\n",
    "\n",
    "early_market = r_squared(true_price, early_market_price)\n",
    "early_model = r_squared(true_price, early_model_price)\n",
    "starting_model = r_squared(true_price, starting_model_price)\n",
    "\n",
    "print(r\"Early Market r^2 = {:.4f}\".format(early_market))\n",
    "print(r\"Early Model r^2 = {:.4f}\".format(early_model))\n",
    "print(r\"Starting Model r^2 = {:.4f}\".format(starting_model))"
   ]
  },
  {
   "cell_type": "markdown",
   "metadata": {},
   "source": [
    "The coefficients of determination between the fair price and the different prices are: \n",
    "\n",
    "- Early Market Price = 0.3076\n",
    "- Early Model Price = 0.0050\n",
    "- Starting Model Price = 0.0050\n",
    "\n",
    "Therefore the best predictor of the actual probability that a horse wins is the mearly market price. "
   ]
  },
  {
   "cell_type": "code",
   "execution_count": null,
   "metadata": {},
   "outputs": [],
   "source": []
  }
 ],
 "metadata": {
  "kernelspec": {
   "display_name": "Python 3.8.13 ('thesis')",
   "language": "python",
   "name": "python3"
  },
  "language_info": {
   "codemirror_mode": {
    "name": "ipython",
    "version": 3
   },
   "file_extension": ".py",
   "mimetype": "text/x-python",
   "name": "python",
   "nbconvert_exporter": "python",
   "pygments_lexer": "ipython3",
   "version": "3.8.13"
  },
  "orig_nbformat": 4,
  "vscode": {
   "interpreter": {
    "hash": "5f669c7084f16341f74c1b327dbfce1779bcbe9248dfe5af15e28a82cc4a6125"
   }
  }
 },
 "nbformat": 4,
 "nbformat_minor": 2
}
